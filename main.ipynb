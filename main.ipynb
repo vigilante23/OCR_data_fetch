{
 "cells": [
  {
   "cell_type": "code",
   "execution_count": 1,
   "metadata": {},
   "outputs": [],
   "source": [
    "import cv2\n",
    "import pytesseract\n",
    "import numpy as np\n",
    "import os\n",
    "from matplotlib import pyplot as plt"
   ]
  },
  {
   "cell_type": "code",
   "execution_count": 2,
   "metadata": {},
   "outputs": [],
   "source": [
    "def display(im_path):\n",
    "    dpi = 80\n",
    "    im_data = plt.imread(im_path)\n",
    "\n",
    "    height, width  = im_data.shape[:2]\n",
    "\n",
    "    figsize = width / float(dpi), height / float(dpi)\n",
    "\n",
    "    fig = plt.figure(figsize=figsize)\n",
    "    ax = fig.add_axes([0, 0, 1, 1])\n",
    "    ax.axis('off')\n",
    "\n",
    "    ax.imshow(im_data, cmap='gray')\n",
    "    plt.show()"
   ]
  },
  {
   "cell_type": "code",
   "execution_count": 80,
   "metadata": {},
   "outputs": [],
   "source": []
  },
  {
   "cell_type": "code",
   "execution_count": 3,
   "metadata": {},
   "outputs": [],
   "source": [
    "imgq=cv2.imread('invoice1.jpg')"
   ]
  },
  {
   "cell_type": "code",
   "execution_count": 4,
   "metadata": {},
   "outputs": [],
   "source": [
    "h,w,c=imgq.shape"
   ]
  },
  {
   "cell_type": "code",
   "execution_count": 5,
   "metadata": {},
   "outputs": [],
   "source": [
    "orb=cv2.ORB_create(1000)\n",
    "kp1,des1 = orb.detectAndCompute(imgq,None)"
   ]
  },
  {
   "cell_type": "code",
   "execution_count": 6,
   "metadata": {},
   "outputs": [
    {
     "name": "stdout",
     "output_type": "stream",
     "text": [
      "['invoice2.jpg', 'invoice3.jpg']\n"
     ]
    }
   ],
   "source": [
    "path='invoice'\n",
    "mypic = os.listdir(path)\n",
    "print(mypic)"
   ]
  },
  {
   "cell_type": "code",
   "execution_count": 7,
   "metadata": {},
   "outputs": [],
   "source": [
    "for j,y in enumerate(mypic):\n",
    "    img=cv2.imread(path+ \"/\" +y)"
   ]
  },
  {
   "cell_type": "code",
   "execution_count": 8,
   "metadata": {},
   "outputs": [],
   "source": [
    "kp2,des2 = orb.detectAndCompute(img,None)"
   ]
  },
  {
   "cell_type": "code",
   "execution_count": 9,
   "metadata": {},
   "outputs": [],
   "source": [
    "per=25"
   ]
  },
  {
   "cell_type": "code",
   "execution_count": 10,
   "metadata": {},
   "outputs": [],
   "source": [
    "bf=cv2.BFMatcher(cv2.NORM_HAMMING)\n",
    "matches = list(bf.match(des2, des1))\n",
    "matches.sort(key = lambda x:x.distance)\n",
    "good=matches[:int(len(matches))]\n"
   ]
  },
  {
   "cell_type": "code",
   "execution_count": 11,
   "metadata": {},
   "outputs": [],
   "source": [
    "imgmatch=cv2.drawMatches(img,kp2,imgq,kp1,good[:20],None, flags=2)"
   ]
  },
  {
   "cell_type": "code",
   "execution_count": 12,
   "metadata": {},
   "outputs": [],
   "source": [
    "srcpoint = np.float32([kp2[m.queryIdx].pt for m in good]).reshape(-1,1,2)\n",
    "dstpoint = np.float32([kp1[m.trainIdx].pt for m in good]).reshape(-1,1,2)"
   ]
  },
  {
   "cell_type": "code",
   "execution_count": 13,
   "metadata": {},
   "outputs": [],
   "source": [
    "M, _ =cv2.findHomography(srcpoint, dstpoint, cv2.RANSAC, 5.0)"
   ]
  },
  {
   "cell_type": "code",
   "execution_count": 14,
   "metadata": {},
   "outputs": [],
   "source": [
    "imgscan =cv2.warpPerspective(img,M,(w,h))"
   ]
  },
  {
   "cell_type": "code",
   "execution_count": 24,
   "metadata": {},
   "outputs": [],
   "source": [
    "roi = [[(1129,252), (1200,274), 'text' , 'invoice'],\n",
    "[(1080,284), (1201,308), 'text' , 'date'],\n",
    "[(1081,317), (1200,341), 'text' , 'due date'],\n",
    "[(128,440), (254,467), 'text' , 'item'],\n",
    "[(734,439), (780,465), 'text' , 'quantity'],\n",
    "[(880,439), (992,470), 'text' , 'price'],\n",
    "[(130,486), (211,513), 'text' , 'item'],\n",
    "[(732,486), (783,510), 'text' , 'quantity'],\n",
    "[(897,487), (991,512), 'text' , 'price'],\n",
    "[(1099,535), (1209,565), 'text' , 'total']]"
   ]
  },
  {
   "cell_type": "code",
   "execution_count": 25,
   "metadata": {},
   "outputs": [],
   "source": [
    "imgshow = imgscan.copy()\n",
    "imgmask = np.zeros_like(imgshow)"
   ]
  },
  {
   "cell_type": "code",
   "execution_count": 26,
   "metadata": {},
   "outputs": [],
   "source": [
    "mydata=[]"
   ]
  },
  {
   "cell_type": "code",
   "execution_count": 29,
   "metadata": {},
   "outputs": [],
   "source": [
    "for x,r in enumerate(roi):\n",
    "    cv2.rectangle(imgmask, (r[0][0],r[0][1]), (r[1][0],r[1][1]), (0,255,0), cv2.FILLED)\n",
    "    imgshow = cv2.addWeighted(imgshow, 0.99, imgmask, 0.1, 0)\n",
    "    imgcrop = imgscan[r[0][1] : r[1][1], r[0][0] : r[1][0]]\n",
    "    if r[2] == 'text':\n",
    "        mydata.append(pytesseract.image_to_string(imgcrop))\n",
    "   \n"
   ]
  },
  {
   "cell_type": "code",
   "execution_count": 30,
   "metadata": {},
   "outputs": [],
   "source": [
    "with open('data.csv', 'a+') as f:\n",
    "    for data in mydata:\n",
    "        f.write((str(data)+','))\n",
    "    f.write('\\n')"
   ]
  },
  {
   "cell_type": "code",
   "execution_count": null,
   "metadata": {},
   "outputs": [],
   "source": []
  }
 ],
 "metadata": {
  "kernelspec": {
   "display_name": "base",
   "language": "python",
   "name": "python3"
  },
  "language_info": {
   "codemirror_mode": {
    "name": "ipython",
    "version": 3
   },
   "file_extension": ".py",
   "mimetype": "text/x-python",
   "name": "python",
   "nbconvert_exporter": "python",
   "pygments_lexer": "ipython3",
   "version": "3.9.13"
  },
  "orig_nbformat": 4,
  "vscode": {
   "interpreter": {
    "hash": "dc07d24e2f18896857f0b2a651fe84ba40ce7b297e58d8804a308c8039f752a6"
   }
  }
 },
 "nbformat": 4,
 "nbformat_minor": 2
}
